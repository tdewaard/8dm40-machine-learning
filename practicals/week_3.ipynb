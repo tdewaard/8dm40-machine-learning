{
 "cells": [
  {
   "cell_type": "markdown",
   "metadata": {},
   "source": [
    "# Preliminaries\n",
    "\n",
    "The `pandas` library allows the user several data structures for different data manipulation tasks:\n",
    "1. Data storage through its `Series` and `DataFrame` data structures.\n",
    "2. Data filtering using multiple methods from the package.\n",
    "3. Reading data from many different file formats such as `csv`, `txt`, `xlsx`, ...\n",
    "\n",
    "Below we provide a brief overview of the `pandas` functionalities needed for these exercises. The complete documentation can be found on the [`pandas` website](https://pandas.pydata.org/).\n",
    "\n",
    "## Pandas data structures\n",
    "\n",
    "### Series\n",
    "The Pandas Series data structure is similar to a one-dimensional array. It can store any type of data. The values are mutable but the size not.\n",
    "\n",
    "To create `Series`, we call the `pd.Series()` method and pass an array. A `Series` may also be created from a numpy array."
   ]
  },
  {
   "cell_type": "code",
   "execution_count": 1,
   "metadata": {},
   "outputs": [
    {
     "name": "stdout",
     "output_type": "stream",
     "text": [
      "0       1\n",
      "1      10\n",
      "2     100\n",
      "3    1000\n",
      "dtype: int64\n",
      "\n",
      "\n",
      "0          PSV\n",
      "1         Ajax\n",
      "2    Feyenoord\n",
      "3       Twente\n",
      "dtype: object\n"
     ]
    }
   ],
   "source": [
    "import pandas as pd\n",
    "import numpy as np\n",
    "\n",
    "first_series = pd.Series([1,10,100,1000])\n",
    "\n",
    "print(first_series)\n",
    "\n",
    "teams = np.array(['PSV','Ajax','Feyenoord','Twente'])\n",
    "second_series = pd.Series(teams)\n",
    "\n",
    "print('\\n')\n",
    "print(second_series)"
   ]
  },
  {
   "cell_type": "markdown",
   "metadata": {},
   "source": [
    "### DataFrame\n",
    "One can think of a `DataFrame` as a table with rows and columns (2D structure). The columns can be of a different type (as opposed to `numpy` arrays) and the size of the `DataFrame` is mutable.\n",
    "\n",
    "To create `DataFrame`, we call the `pd.DataFrame()` method and we can create it from scratch or we can convert a numpy array or a list into a `DataFrame`."
   ]
  },
  {
   "cell_type": "code",
   "execution_count": 2,
   "metadata": {},
   "outputs": [
    {
     "name": "stdout",
     "output_type": "stream",
     "text": [
      "From scratch: \n",
      "    Position       Team  GF  GA  Points\n",
      "0         1        PSV  80  30      79\n",
      "1         2       Ajax  75  25      78\n",
      "2         3  Feyenoord  75  40      70\n",
      "3         4     Twente  70  60      66 \n",
      "\n",
      "From list: \n",
      "   Position       Team  GF  GA Points\n",
      "0        1        PSV  80  30     79\n",
      "1        2       Ajax  75  25     78\n",
      "2        3  Feyenoord  75  40     70\n",
      "3        4     Twente  70  60     66 \n",
      "\n",
      "From numpy array: \n",
      "   Position       Team  GF  GA Points\n",
      "0        1        PSV  80  30     79\n",
      "1        2       Ajax  75  25     78\n",
      "2        3  Feyenoord  75  40     70\n",
      "3        4     Twente  70  60     66 \n",
      "\n"
     ]
    }
   ],
   "source": [
    "# DataFrame from scratch\n",
    "first_dataframe = pd.DataFrame({\n",
    "    \"Position\": [1, 2, 3, 4],\n",
    "    \"Team\": ['PSV','Ajax','Feyenoord','Twente'],\n",
    "    \"GF\": [80, 75, 75, 70],\n",
    "    \"GA\": [30, 25, 40, 60],\n",
    "    \"Points\": [79, 78, 70, 66]\n",
    "})\n",
    "\n",
    "print(\"From scratch: \\n {} \\n\".format(first_dataframe))\n",
    "\n",
    "# DataFrme from a list\n",
    "data = [[1, 2, 3, 4], ['PSV','Ajax','Feyenoord','Twente'], \n",
    "        [80, 75, 75, 70], [30, 25, 40, 60], [79, 78, 70, 66]]\n",
    "columns = [\"Position\", \"Team\", \"GF\", \"GA\", \"Points\"]\n",
    "\n",
    "second_dataframe = pd.DataFrame(data, index=columns)\n",
    "\n",
    "print(\"From list: \\n {} \\n\".format(second_dataframe.T)) # the '.T' operator is explained later on\n",
    "\n",
    "# DataFrame from numpy array\n",
    "data = np.array([[1, 2, 3, 4], ['PSV','Ajax','Feyenoord','Twente'], \n",
    "                 [80, 75, 75, 70], [30, 25, 40, 60], [79, 78, 70, 66]])\n",
    "columns = [\"Position\", \"Team\", \"GF\", \"GA\", \"Points\"]\n",
    "\n",
    "third_dataframe = pd.DataFrame(data.T, columns=columns)\n",
    "\n",
    "print(\"From numpy array: \\n {} \\n\".format(third_dataframe))"
   ]
  },
  {
   "cell_type": "markdown",
   "metadata": {},
   "source": [
    "### DataFrame attributes\n",
    "This section gives a quick overview of some of the `pandas.DataFrame` attributes such as `T`, `index`, `columns`, `iloc`, `loc`, `shape` and `values`."
   ]
  },
  {
   "cell_type": "code",
   "execution_count": 3,
   "metadata": {},
   "outputs": [
    {
     "name": "stdout",
     "output_type": "stream",
     "text": [
      "            0     1          2       3\n",
      "Position    1     2          3       4\n",
      "Team      PSV  Ajax  Feyenoord  Twente\n",
      "GF         80    75         75      70\n",
      "GA         30    25         40      60\n",
      "Points     79    78         70      66\n"
     ]
    }
   ],
   "source": [
    "# transpose the index and columns\n",
    "print(third_dataframe.T)"
   ]
  },
  {
   "cell_type": "code",
   "execution_count": 4,
   "metadata": {},
   "outputs": [
    {
     "name": "stdout",
     "output_type": "stream",
     "text": [
      "RangeIndex(start=0, stop=4, step=1)\n"
     ]
    }
   ],
   "source": [
    "# index makes reference to the row labels\n",
    "print(third_dataframe.index)"
   ]
  },
  {
   "cell_type": "code",
   "execution_count": 5,
   "metadata": {},
   "outputs": [
    {
     "name": "stdout",
     "output_type": "stream",
     "text": [
      "Index(['Position', 'Team', 'GF', 'GA', 'Points'], dtype='object')\n"
     ]
    }
   ],
   "source": [
    "# columns makes reference to the column labels\n",
    "print(third_dataframe.columns)"
   ]
  },
  {
   "cell_type": "code",
   "execution_count": 6,
   "metadata": {},
   "outputs": [
    {
     "name": "stdout",
     "output_type": "stream",
     "text": [
      "0          PSV\n",
      "1         Ajax\n",
      "2    Feyenoord\n",
      "3       Twente\n",
      "Name: Team, dtype: object\n"
     ]
    }
   ],
   "source": [
    "# iloc allows to access the index by integer-location (e.g. all team names, which are in the second columm)\n",
    "print(third_dataframe.iloc[:,1])"
   ]
  },
  {
   "cell_type": "code",
   "execution_count": 7,
   "metadata": {},
   "outputs": [
    {
     "name": "stdout",
     "output_type": "stream",
     "text": [
      "PSV\n"
     ]
    }
   ],
   "source": [
    "# loc allows to access the index by label(s)-location (e.g. all team names, which are in the \"Team\" columm)\n",
    "print(third_dataframe.loc[0, 'Team'])"
   ]
  },
  {
   "cell_type": "code",
   "execution_count": 8,
   "metadata": {},
   "outputs": [
    {
     "name": "stdout",
     "output_type": "stream",
     "text": [
      "(4, 5)\n"
     ]
    }
   ],
   "source": [
    "# shape returns a tuple with the DataFrame dimension, similar to numpy\n",
    "print(third_dataframe.shape)"
   ]
  },
  {
   "cell_type": "code",
   "execution_count": 9,
   "metadata": {},
   "outputs": [
    {
     "name": "stdout",
     "output_type": "stream",
     "text": [
      "[['1' 'PSV' '80' '30' '79']\n",
      " ['2' 'Ajax' '75' '25' '78']\n",
      " ['3' 'Feyenoord' '75' '40' '70']\n",
      " ['4' 'Twente' '70' '60' '66']]\n"
     ]
    }
   ],
   "source": [
    "# values return a Numpy representation of the DataFrame data\n",
    "print(third_dataframe.values)"
   ]
  },
  {
   "cell_type": "markdown",
   "metadata": {},
   "source": [
    "### DataFrame methods\n",
    "This section gives a quick overview of some of the `pandas.DataFrame` methods such as `head`, `describe`, `concat`, `groupby`,`rename`, `filter`, `drop` and `isna`. To import data from CSV or MS Excel files, we can make use of `read_csv` and `read_excel`, respectively."
   ]
  },
  {
   "cell_type": "code",
   "execution_count": 10,
   "metadata": {},
   "outputs": [
    {
     "name": "stdout",
     "output_type": "stream",
     "text": [
      "  Position       Team  GF  GA Points\n",
      "0        1        PSV  80  30     79\n",
      "1        2       Ajax  75  25     78\n",
      "2        3  Feyenoord  75  40     70\n",
      "3        4     Twente  70  60     66\n"
     ]
    }
   ],
   "source": [
    "# print the first few rows in your dataset with head()\n",
    "print(third_dataframe.head()) # In this case, it is not very useful because we don't have thousands of rows"
   ]
  },
  {
   "cell_type": "code",
   "execution_count": 11,
   "metadata": {},
   "outputs": [
    {
     "name": "stdout",
     "output_type": "stream",
     "text": [
      "       Position       Team  GF  GA Points\n",
      "count         4          4   4   4      4\n",
      "unique        4          4   3   4      4\n",
      "top           3  Feyenoord  75  40     78\n",
      "freq          1          1   2   1      1\n"
     ]
    }
   ],
   "source": [
    "# get the summary statistics of the DataFrame with describe()\n",
    "print(third_dataframe.describe())"
   ]
  },
  {
   "cell_type": "code",
   "execution_count": 12,
   "metadata": {},
   "outputs": [
    {
     "name": "stdout",
     "output_type": "stream",
     "text": [
      "  Position  Team  GF  GA Points\n",
      "0        1   PSV  80  30     79\n",
      "1        2  Ajax  75  25     78\n",
      "\n",
      "\n",
      "  Position       Team  GF  GA Points\n",
      "2        3  Feyenoord  75  40     70\n",
      "3        4     Twente  70  60     66\n",
      "\n",
      "\n",
      "  Position       Team  GF  GA Points\n",
      "0        1        PSV  80  30     79\n",
      "1        2       Ajax  75  25     78\n",
      "2        3  Feyenoord  75  40     70\n",
      "3        4     Twente  70  60     66\n"
     ]
    }
   ],
   "source": [
    "# concatenate (join) DataFrame objects using concat()\n",
    "\n",
    "# first, we will split the above DataFrame in two different ones\n",
    "df_a = third_dataframe.loc[[0,1],:]\n",
    "df_b = third_dataframe.loc[[2,3],:]\n",
    "\n",
    "print(df_a)\n",
    "print('\\n')\n",
    "\n",
    "print(df_b)\n",
    "print('\\n')\n",
    "\n",
    "# now, we concatenate both datasets\n",
    "df = pd.concat([df_a, df_b])\n",
    "\n",
    "print(df)"
   ]
  },
  {
   "cell_type": "code",
   "execution_count": 13,
   "metadata": {},
   "outputs": [
    {
     "name": "stdout",
     "output_type": "stream",
     "text": [
      "  Position       Team  GF  GA Points\n",
      "1        2       Ajax  75  25     78\n",
      "2        3  Feyenoord  75  40     70\n"
     ]
    }
   ],
   "source": [
    "# group the data by certain variable via groupby()\n",
    "# here, we have grouped the data by goals for, which in this case is 75\n",
    "\n",
    "group = df.groupby('GF')\n",
    "\n",
    "print(group.get_group('75'))"
   ]
  },
  {
   "cell_type": "code",
   "execution_count": 14,
   "metadata": {},
   "outputs": [
    {
     "name": "stdout",
     "output_type": "stream",
     "text": [
      "  Pos       Club  GF  GA Points\n",
      "0   1        PSV  80  30     79\n",
      "1   2       Ajax  75  25     78\n",
      "2   3  Feyenoord  75  40     70\n",
      "3   4     Twente  70  60     66\n"
     ]
    }
   ],
   "source": [
    "# rename() helps you change the column or index names\n",
    "print(df.rename(columns={'Position':'Pos','Team':'Club'}))"
   ]
  },
  {
   "cell_type": "code",
   "execution_count": 15,
   "metadata": {},
   "outputs": [
    {
     "name": "stdout",
     "output_type": "stream",
     "text": [
      "        Team Points\n",
      "0        PSV     79\n",
      "1       Ajax     78\n",
      "2  Feyenoord     70\n",
      "3     Twente     66\n"
     ]
    }
   ],
   "source": [
    "# build a subset of rows or columns of your dataset according to labels via filter()\n",
    "# here, items refer to the variable names: 'Team' and 'Points'; to select columns, we specify axis=1\n",
    "print(df.filter(items=['Team', 'Points'], axis=1))"
   ]
  },
  {
   "cell_type": "code",
   "execution_count": 16,
   "metadata": {},
   "outputs": [
    {
     "name": "stdout",
     "output_type": "stream",
     "text": [
      "  Position       Team Points\n",
      "0        1        PSV     79\n",
      "1        2       Ajax     78\n",
      "2        3  Feyenoord     70\n",
      "3        4     Twente     66\n"
     ]
    }
   ],
   "source": [
    "# dropping some labels\n",
    "print(df.drop(columns=['GF', 'GA']))"
   ]
  },
  {
   "cell_type": "code",
   "execution_count": 17,
   "metadata": {},
   "outputs": [
    {
     "name": "stdout",
     "output_type": "stream",
     "text": [
      "   Position   Team     GF     GA  Points\n",
      "0     False  False  False  False   False\n",
      "1     False  False  False  False   False\n",
      "2     False  False  False  False   False\n",
      "3     False  False  False  False   False\n",
      "\n",
      "\n",
      "  Position       Team  GF  GA Points     W\n",
      "0        1        PSV  80  30     79   NaN\n",
      "1        2       Ajax  75  25     78  25.0\n",
      "2        3  Feyenoord  75  40     70  24.0\n",
      "3        4     Twente  70  60     66  19.0\n",
      "\n",
      "\n",
      "   Position   Team     GF     GA  Points      W\n",
      "0     False  False  False  False   False   True\n",
      "1     False  False  False  False   False  False\n",
      "2     False  False  False  False   False  False\n",
      "3     False  False  False  False   False  False\n"
     ]
    }
   ],
   "source": [
    "# search for NA (not available) entries in the DataFrame\n",
    "print(df.isna()) # No NA values\n",
    "print('\\n')\n",
    "\n",
    "# create a pandas Series with a NA value\n",
    "# the Series as W (winnin matches)\n",
    "tmp = pd.Series([np.NaN, 25, 24, 19],  name=\"W\")\n",
    "\n",
    "# concatenate the Series with the DataFrame\n",
    "df = pd.concat([df,tmp], axis = 1)\n",
    "print(df)\n",
    "print('\\n')\n",
    "\n",
    "# again, check for NA entries\n",
    "print(df.isna())"
   ]
  },
  {
   "cell_type": "markdown",
   "metadata": {},
   "source": [
    "## Dataset\n",
    "\n",
    "For this week exercises we will use a dataset from the Genomics of Drug Sensitivity in Cancer (GDSC) project (https://www.cancerrxgene.org/). In this study (['Iorio et al., Cell, 2016']()), 265 compounds were tested on 1001 cancer cell lines for which different types of -omics data (RNA expression, DNA methylation, Copy Number Alteration, DNA sequencing) are available. This is a valuable resource to look for biomarkers of drugs sensitivity in order to try to understand why cancer patients responds very differently to cancer drugs and find ways to assign the optimal treatment to each patient.\n",
    "\n",
    "For this exercise we will use a subset of the data, focusing the response to the drug YM155 (Sepantronium bromide) on four cancer types, for a total of 148 cancer cell lines.\n",
    "\n",
    "| ID          | Cancer type                      |\n",
    "|-------------|----------------------------------|\n",
    "|   COAD/READ | Colorectal adenocarcinoma        |\n",
    "|   NB        | Neuroblastoma                    |\n",
    "|   KIRC      | Kidney renal clear cell carcinoma|\n",
    "|   BRCA      | Breast carcinoma                 |\n",
    "\n",
    "We will use the RNA expression data (RMA normalised). Only genes with high variability across cell lines (variance > 5, resulting in 238 genes) have been kept.\n",
    "\n",
    "Drugs have been tested at different concentration, measuring each time the viability of the cells. Drug sensitivity is measured using the natural log of the fitted IC50 metric, which is defined as the half maximal inhibitory concentration. A lower IC50 corresponds to a more sensitive cell line because a lower amount of drug is sufficient to have a strong response, while a higher IC50 corresponds to a more resistant cell line because more drug is needed for killing the cells.\n",
    "\n",
    "Based on the IC50 metric, cells can be classified as sensitive or resistant. The classification is done by computing the $z$-score across all cell lines in the GDSC for each drug, and considering as sensitive the ones with $z$-score < 0 and resistant the ones with $z$-score > 0.\n",
    "\n",
    "The dataset is originally provided as 3 files ([original source](https://www.sciencedirect.com/science/article/pii/S0092867416307462?via%3Dihub)) :\n",
    "\n",
    "`GDSC_RNA_expression.csv`: gene expression matrix with the cell lines in the rows (148) and the genes in the columns (238).\n",
    "\n",
    "`GDSC_drug_response.csv`: vector with the cell lines response to the drug YM155 in terms of log(IC50) and as classification in sensitive or resistant.\n",
    "\n",
    "`GDSC_metadata.csv`: metadata for the 148 cell lines including name, COSMIC ID and tumor type (using the classification from ['The Cancer Genome Atlas TCGA'](https://www.cancer.gov/about-nci/organization/ccg/research/structural-genomics/tcga))\n",
    "\n",
    "For convenience, we provide the data already curated.\n",
    "\n",
    "`RNA_expression_curated.csv`: [148 cell lines , 238 genes]\n",
    "\n",
    "`drug_response_curated.csv`: [148 cell lines , YM155 drug]\n",
    "\n",
    "The curated data cam be read as `pandas` `DataFrame`s in the following way:"
   ]
  },
  {
   "cell_type": "code",
   "execution_count": 18,
   "metadata": {},
   "outputs": [],
   "source": [
    "import pandas as pd\n",
    "\n",
    "gene_expression = pd.read_csv(\"./data/RNA_expression_curated.csv\", sep=',', header=0, index_col=0)\n",
    "drug_response = pd.read_csv(\"./data/drug_response_curated.csv\", sep=',', header=0, index_col=0)"
   ]
  },
  {
   "cell_type": "markdown",
   "metadata": {},
   "source": [
    "You can use the `DataFrame`s directly as inputs to the the `sklearn` models. The advantage over using `numpy` arrays is that the variable are annotated, i.e. each input and output has a name."
   ]
  },
  {
   "cell_type": "markdown",
   "metadata": {},
   "source": [
    "## Tools\n",
    "The `scikit-learn` library provides the required tools for linear regression/classification and shrinkage, as well as for logistic regression."
   ]
  },
  {
   "cell_type": "code",
   "execution_count": 19,
   "metadata": {},
   "outputs": [],
   "source": [
    "from sklearn.linear_model import LinearRegression\n",
    "from sklearn.linear_model import Ridge\n",
    "from sklearn.linear_model import Lasso\n",
    "from sklearn.linear_model import LogisticRegression"
   ]
  },
  {
   "cell_type": "markdown",
   "metadata": {},
   "source": [
    "Note that the notation used for the hyperparameters in the `scikit-learn` library is different from the one used in the lecture. More specifically, in the lecture $\\alpha$ is the tunable parameter to select the compromise between Ridge and Lasso. Whereas, `scikit-learn` library refers to `alpha` as the tunable parameter $\\lambda$. Please check the documentation for more details."
   ]
  },
  {
   "cell_type": "markdown",
   "metadata": {},
   "source": [
    "# Exercises\n",
    "\n",
    "## Selection of the hyperparameter\n",
    "\n",
    "Implement cross-validation (using `sklearn.grid_search.GridSearchCV`) to select the `alpha` hyperparameter of `sklearn.linear_model.Lasso`. "
   ]
  },
  {
   "cell_type": "code",
   "execution_count": 3,
   "metadata": {},
   "outputs": [
    {
     "name": "stdout",
     "output_type": "stream",
     "text": [
      "The optimal value for alpha (lambda) equals: 0.030538555088334154\n"
     ]
    }
   ],
   "source": [
    "import pandas as pd\n",
    "import numpy as np \n",
    "from sklearn.model_selection import GridSearchCV, train_test_split\n",
    "from sklearn.linear_model import Lasso\n",
    "\n",
    "gene_expression = pd.read_csv(\"./data/RNA_expression_curated.csv\", sep=',', header=0, index_col=0)\n",
    "drug_response = pd.read_csv(\"./data/drug_response_curated.csv\", sep=',', header=0, index_col=0)\n",
    "\n",
    "# Split data in train and test data\n",
    "X_train, X_test, y_train, y_test = train_test_split(gene_expression,drug_response, random_state=50)\n",
    "\n",
    "# Model trained with L1 regularization (Lasso)\n",
    "model=Lasso(normalize=True,max_iter=100000)\n",
    "\n",
    "# Grid for the alpha parameter\n",
    "alphas= np.logspace(-4, 2, num=100)\n",
    "\n",
    "# Doing 10-fold cross validation. Optimize the model for each training set and compute the MSE for each validation set.\n",
    "grid = GridSearchCV(estimator=model, param_grid=dict(alpha=alphas), cv=10, scoring='neg_mean_squared_error', \\\n",
    "                         iid=False, return_train_score=False)\n",
    "grid.fit(X_train, y_train)\n",
    "\n",
    "# Finding the optimal alpha value (the model with the smallest cross-validation error)\n",
    "optimal_value_alpha=grid.best_params_['alpha']\n",
    "print(\"The optimal value for alpha (lambda) equals: {}\".format(optimal_value_alpha))"
   ]
  },
  {
   "cell_type": "markdown",
   "metadata": {},
   "source": [
    "## Feature selection\n",
    "\n",
    "Look at the features selected using the hyperparameter which corresponds to the minimum cross-validation error.\n",
    "\n",
    "<p><font color='#770a0a'>Is the partition in training and validation sets playing a role in the selection of the hyperparameter? How will this affect the selection of the relevant features?</font></p>\n",
    "\n",
    "<p><font color='#770a0a'>Should the value of the intercept also be shrunk to zero with Lasso and Ridge regression? Motivate your answer.</font></p>"
   ]
  },
  {
   "cell_type": "markdown",
   "metadata": {},
   "source": [
    "The higher the number of folds (K in K-fold cross validation), the higher the variance of the estimate of the generalization error because the training sets are becoming more similar. The bias will decrease because the training set better represents the data. The higher the number of folds, the smaller the validation data set. So you might not have sufficient samples to accurately evaluate the model. Using a different number of folds, can result in a different optimal hyperparameter.\n",
    "\n",
    "The selection of the hyperparameter is very sensitive to the data used for training. Using a different training data set can result in a different model and thus in a different optimal hyperparameter alpha. \n",
    "Which hyperparameter you select will have an impact on the chosen optimal feature set. For higher alpha, a bigger punishment is given to large (sums of absolute) coefficients, favouring coefficients near or equal to zero. The more coefficients are equal to zero, the less features are selected. This will favour selecting only the most important features, in the end reducing the model's complexity.\n",
    "\n",
    "The intercept should not be penalized / shrunk to zero, because penalizing the intercept would make the procedure depend on the origin chosen for $y$.\n",
    "When not penalizing the intercept; adding $c$ to all $ y_i $ will lead to $ \\boldsymbol{\\beta}_0 $ increasing by $c$ as well and correspondingly all predicted values $ {\\hat{y_i}} $ will also increase by $c$. This is not true if the intercept is penalized: $ \\boldsymbol{\\beta}_0 $ will have to increase by less than $c$. \n",
    "The intercept should be kept out of shrinkage to make sure $ \\boldsymbol{\\beta}_0 $ is equal to the mean of $y $. <br> If, however, the data is normalised before being fed into the model, one could argue that the intercept may be shrunk to zero as the data is now centered around the origin."
   ]
  },
  {
   "cell_type": "markdown",
   "metadata": {},
   "source": [
    "## Bias-variance \n",
    "\n",
    "Show the effect of the regularization on the parameter estimates in terms of bias and variance. For this you can repeat the optimization 100 times using bootstrap and visualise the profile of the Lasso regression coefficient over a grid of the hyperparameter, optionally including the variability as error bars.\n",
    "\n",
    "<p><font color='#770a0a'>Based on the visual analysis of the plot, what are your observation on bias and variance in relation to model complexity? Motivate your answer.</font></p>"
   ]
  },
  {
   "cell_type": "code",
   "execution_count": 21,
   "metadata": {},
   "outputs": [],
   "source": [
    "from sklearn.utils import resample\n",
    "\n",
    "# if calculation takes too long, start at bigger alpha values\n",
    "alphas = np.logspace(-4, 1, num=50)\n",
    "\n",
    "# intitialise empty arrays\n",
    "betas = np.zeros((len(alphas), gene_expression.shape[1]+1, 100))\n",
    "MSEs_train = np.zeros((len(alphas), 100))\n",
    "MSEs_test = np.zeros((len(alphas), 100))\n",
    "\n",
    "# initial data splitting with constant random seed\n",
    "X_train, X_test, y_train, y_test = train_test_split(gene_expression, drug_response, random_state=1)\n",
    "sample_size = X_train.shape[0]\n",
    "                \n",
    "for i in range(len(alphas)):\n",
    "    for j in range(100):\n",
    "        # force different bootstrapping random seed each iteration\n",
    "        boot_X = resample(X_train, replace=True, n_samples=sample_size, random_state=j)\n",
    "        boot_Y = resample(y_train, replace=True, n_samples=sample_size, random_state=j)\n",
    "\n",
    "        model=Lasso(alpha=alphas[i], normalize=True, max_iter=1e5)\n",
    "        model.fit(boot_X, boot_Y)\n",
    "        \n",
    "        # calc training error\n",
    "        pred_train = model.predict(boot_X)\n",
    "        MSEs_train[i, j] = np.sum((pred_train[:, np.newaxis] - boot_Y.values)**2)/boot_Y.values.shape[0]\n",
    "        \n",
    "        # calc testing error\n",
    "        pred_test = model.predict(X_test)\n",
    "        MSEs_test[i, j] = np.sum((pred_test[:, np.newaxis] - y_test.values)**2)/y_test.values.shape[0]\n",
    "\n",
    "        beta = model.coef_\n",
    "        beta0 = model.intercept_\n",
    "\n",
    "        betas[i, 0, j] = beta0\n",
    "        betas[i, 1:, j] = beta"
   ]
  },
  {
   "cell_type": "code",
   "execution_count": 37,
   "metadata": {},
   "outputs": [
    {
     "data": {
      "image/png": "[encoded data removed]",
      "text/plain": [
       "<Figure size 1440x540 with 2 Axes>"
      ]
     },
     "metadata": {
      "needs_background": "light"
     },
     "output_type": "display_data"
    }
   ],
   "source": [
    "# plotting\n",
    "import matplotlib.pyplot as plt\n",
    "\n",
    "betas_mean = np.mean(betas[:, 1:, :], axis=2)\n",
    "betas_std = np.std(betas[:, 1:, :], axis=2)\n",
    "\n",
    "MSEs_train_mean = np.mean(MSEs_train, axis=1)\n",
    "MSEs_train_std = np.std(MSEs_train, axis=1)\n",
    "\n",
    "MSEs_test_mean = np.mean(MSEs_test, axis=1)\n",
    "MSEs_test_std = np.std(MSEs_test, axis=1)\n",
    "\n",
    "fig, axes = plt.subplots(nrows=1, ncols=2, figsize=(20, 7.5))\n",
    "axes[0].plot(np.log10(alphas), betas_mean)\n",
    "axes[0].set_xlabel(r'$^{10}log(\\lambda)$')\n",
    "axes[0].set_ylabel(r'$\\beta_{mean}$')\n",
    "axes[0].set_title(\"Lasso Coefficients Plot\")\n",
    "\n",
    "axes[1].errorbar(np.log10(alphas), MSEs_train_mean, yerr=MSEs_train_std, fmt='bo', label='Train Error', capsize=5)\n",
    "axes[1].errorbar(np.log10(alphas), MSEs_test_mean, yerr=MSEs_test_std, fmt='go', label='Test Error', capsize=5)\n",
    "axes[1].axvline(np.log10(alphas[np.argmin(MSEs_test_mean)]), ls=':', c='k')\n",
    "axes[1].text(np.log10(alphas[np.argmin(MSEs_test_mean)])+.1, 11, r'$\\lambda_{min}$')\n",
    "axes[1].set_xlabel(r'$^{10}log(\\lambda)$')\n",
    "axes[1].set_ylabel(r'$MSE_{mean}$')\n",
    "axes[1].set_title(\"Train and Test Error Plot\")\n",
    "axes[1].legend(loc='upper right')\n",
    "plt.show()"
   ]
  },
  {
   "cell_type": "markdown",
   "metadata": {},
   "source": [
    "As shown in the plots, increasing values for $\\lambda$ reduce the mean squared error on the test set reaching a minimum around $\\lambda = 0.08$, while the training error increases. This is in line with expectations, as higher values for $\\lambda$ enhance the regularisation effect of reducing model complexity (less features, lower capacity model) and improving a model's generalisability (i.e. its performance on an independent test set). In other words, a model's variance is reduced at the cost of introducing bias (as the training error is not minimal) for higher $\\lambda$ values (high regularisation, less complexity). For lower $\\lambda$ values (less regularisation, more complexity), the higher the variance and the lower the bias. Therefore there is a trade-off between bias and variance at the minimum mean squared error on the test set. "
   ]
  },
  {
   "cell_type": "markdown",
   "metadata": {},
   "source": [
    "## Logistic regression\n",
    "\n",
    "<p><font color='#770a0a'>Write the expression of the objective function for the penalized logistic regression with $L_1$ and $L_2$ regularisation (as in Elastic net).</font></p>"
   ]
  },
  {
   "cell_type": "markdown",
   "metadata": {},
   "source": [
    "Logistic regression objective function (for two classes): <br>\n",
    "\n",
    "$\\sum_{i=1}^N[y_i(\\beta_0 + \\boldsymbol{\\beta}^T\\boldsymbol{x}_i) - log(1 + e^{(\\beta_0+\\boldsymbol{\\beta}^T\\boldsymbol{x}_i)})] - \\lambda\\sum_{j=1}^{p}(\\alpha\\beta_j^2 + (1 - \\alpha)|\\beta_j|)$ <br>\n",
    "\n",
    "Where $N$ represents the number of instances and $p$ the number of parameters. <br> \n",
    "\n",
    "This expression needs to be maximised in terms of $\\boldsymbol{\\beta}$ and $\\beta_0$: <br>\n",
    "\n",
    "$\\max\\limits_{\\beta_0, \\boldsymbol{\\beta}}\\{\\sum_{i=1}^N[y_i(\\beta_0 + \\boldsymbol{\\beta}^T\\boldsymbol{x}_i) - log(1 + e^{(\\beta_0+\\boldsymbol{\\beta}^T\\boldsymbol{x}_i)})] - \\lambda\\sum_{j=1}^{p}(\\alpha\\beta_j^2 + (1 - \\alpha)|\\beta_j|)\\}$"
   ]
  }
 ],
 "metadata": {
  "kernelspec": {
   "display_name": "Python 3",
   "language": "python",
   "name": "python3"
  },
  "language_info": {
   "codemirror_mode": {
    "name": "ipython",
    "version": 3
   },
   "file_extension": ".py",
   "mimetype": "text/x-python",
   "name": "python",
   "nbconvert_exporter": "python",
   "pygments_lexer": "ipython3",
   "version": "3.7.3"
  }
 },
 "nbformat": 4,
 "nbformat_minor": 2
}
