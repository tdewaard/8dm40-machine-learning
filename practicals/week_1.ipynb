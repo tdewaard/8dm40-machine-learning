{
 "cells": [
  {
   "cell_type": "markdown",
   "metadata": {},
   "source": [
    "# Getting started with the practicals\n",
    "\n",
    "***These notebooks are best viewed in Jupyter. GitHub might not display all content of the notebook properly.***\n",
    "\n",
    "## Goal of the practical exercises\n",
    "\n",
    "The exercises have two goals:\n",
    "\n",
    "1. Give you the opportunity to obtain 'hands-on' experience in implementing, training and evaluation machine learning models in Python. This experience will also help you better understand the theory covered during the lectures. \n",
    "\n",
    "2. Occasionally demonstrate some 'exam-style' questions that you can use as a reference when studying for the exam. Note however that the example questions are (as the name suggests) only examples and do not constitute a complete and sufficient list of 'things that you have to learn for the exam'. You can recognize example questions as (parts of) exercises by <font color=\"#770a0a\">this font color</font>.\n",
    "\n",
    "For each set of exercises (one Python notebook such as this one $==$ one set of exercises) you have to submit deliverables that will then be graded and constitute 25% of the final grade. Thus, the work that you do during the practicals has double contribution towards the final grade: as 30% direct contribution and as a preparation for the exam that will define the other 65% of the grade.\n",
    "\n",
    "## Deliverables\n",
    "\n",
    "For each set of exercises, you have to submit:\n",
    "1. Python functions and/or classes (`.py` files) that implement basic functionalities (e.g. a $k$-NN classifier) and \n",
    "2. A *single* Python notebook that contains the experiments, visualization and answer to the questions and math problems. *Do not submit your answers as Word or PDF documents (they will not be graded)*. The submitted code and notebook should run without errors and be able to fully reproduce the reported results.\n",
    "\n",
    "We recommend that you clone the provided notebooks (such as this one) and write your code in them. The following rubric will be used when grading the practical work:\n",
    "\n",
    "Component  | Insufficient | Satisfactory | Excellent\n",
    "--- | --- | --- | ---\n",
    "**Code** | Missing or incomplete code structure, runs with errors, lacks documentation | Self-contained, does not result in errors, contains some documentation, can be easily used to reproduce the reported results | User-friendly, well-structured (good separation of general functionality and experiments, i.e. between `.py` files and the Pyhthon notebook), detailed documentation, optimized for speed, use of a version control system (such as GitHub)\n",
    "**Answers to questions** | Incorrect, does not convey understanding of the material, appears to be copied from another source | Correct, conveys good understanding of the material, description in own words | Correct, conveys excellent level of understanding, makes connections between topics\n",
    "\n",
    "## A word on notation\n",
    "\n",
    "When we refer to Python variables, we will use a monospace font. For example, `X` is a Python variable that contains the data matrix. When we refer to mathematical variables, we will use the de-facto standard notation: $a$ or $\\lambda$ is a scalar variable, $\\boldsymbol{\\mathrm{w}}$ is a vector and $\\boldsymbol{\\mathrm{X}}$ is a matrix (e.g. a data matrix from the example above). You should use the same notation when writing your answers and solutions.\n",
    "\n",
    "# Two simple machine learning models\n",
    "\n",
    "## Preliminaries\n",
    "\n",
    "Throughout the practical curriculum of this course, we will use the Python programming language and its ecosystem of libraries for scientific computing (such as `numpy`, `scipy`, `matplotlib`, `scikit-learn` etc). The practicals for the deep learning part of the course will use the `keras` deep learning framework. If you are not sufficiently familiar with this programming language and/or the listed libraries and packages, you are strongly advised to go over the corresponding tutorials from the ['Essential skills'](https://github.com/tueimage/essential-skills) module (the `scikit-learn` library is not covered by the tutorial, however, an extensive documentation is available [here](https://scikit-learn.org/stable/documentation.html).\n",
    "\n",
    "In this first set of exercises, we will use two toy datasets that ship together with `scikit-learn`. \n",
    "\n",
    "The first dataset is named `diabetes` and contains 442 patients described with 10 features: age, sex, body mass index, average blood pressure, and six blood serum measurements. The target variable is a continuous quantitative measure of the disease (diabetes) progression one year after the baseline measurements were recorded. More information is available [here](https://github.com/scikit-learn/scikit-learn/blob/master/sklearn/datasets/descr/diabetes.rst) and [here](https://www4.stat.ncsu.edu/~boos/var.select/diabetes.html).\n",
    "\n",
    "The second dataset is named `breast_cancer` and is a copy of the UCI ML Breast Cancer Wisconsin (Diagnostic) datasets (more infortmation is available [here](https://github.com/scikit-learn/scikit-learn/blob/master/sklearn/datasets/descr/breast_cancer.rst) and [here](https://archive.ics.uci.edu/ml/datasets/Breast+Cancer+Wisconsin+(Diagnostic)). The datasets contains of 569 instances represented with 30 features that are computed from a images of a fine needle aspirate of a breast mass. The features describe characteristics of the cell nuclei present in the image. Each instance is associated with a binary target variable ('malignant' or 'benign'). \n",
    "\n",
    "You can load the two datasets in the following way:"
   ]
  },
  {
   "cell_type": "code",
   "execution_count": 1,
   "metadata": {},
   "outputs": [],
   "source": [
    "import numpy as np\n",
    "from sklearn.datasets import load_diabetes, load_breast_cancer\n",
    "\n",
    "diabetes = load_diabetes()\n",
    "\n",
    "breast_cancer = load_breast_cancer()"
   ]
  },
  {
   "cell_type": "markdown",
   "metadata": {},
   "source": [
    "In the majority of the exercises in this course, we will use higher-level libraries and packages such as `scikit-learn` and `keras` to implement, train and evaluate machine learning models. However, the goal of this first set of exercises is to illustrate basic mathematical tools and machine learning concepts. Because of this, we will impose a restriction of only using basic `numpy` functionality. Furthermore, you should as much as possible restrict the use of for-loops (e.g. use a vector-to-matrix product instead of a for loop when appropriate).\n",
    "\n",
    "If `X` is a 2D data matrix, we will use the convention that the rows of the matrix contain the samples (or instances) and the columns contain the features (inputs to the model). That means that a data matrix with a shape `(122, 13)` represents a dataset with 122 samples, each represented with 13 features. Similarly, if `Y` is a 2D matrix containing the targets, the rows correspond to the samples and the columns to the different targets (outputs of the model). Thus, if the shape of `Y` is `(122, 3)` that means that there are 122 samples and each sample is has 3 targets (note that in the majority of the examples we will only have a single target and thus the number of columns of `Y` will be 1).\n",
    "\n",
    "You can obtain the data and target matrices from the two datasets in the following way:"
   ]
  },
  {
   "cell_type": "code",
   "execution_count": 2,
   "metadata": {},
   "outputs": [
    {
     "name": "stdout",
     "output_type": "stream",
     "text": [
      "(442, 10)\n",
      "(442, 1)\n"
     ]
    }
   ],
   "source": [
    "X = diabetes.data\n",
    "Y = diabetes.target[:, np.newaxis]\n",
    "\n",
    "print(X.shape)\n",
    "print(Y.shape)"
   ]
  },
  {
   "cell_type": "markdown",
   "metadata": {},
   "source": [
    "If you want to only use a subset of the available features, you can obtain a reduced data matrix in the following way:"
   ]
  },
  {
   "cell_type": "code",
   "execution_count": 3,
   "metadata": {
    "scrolled": true
   },
   "outputs": [
    {
     "name": "stdout",
     "output_type": "stream",
     "text": [
      "(442, 1)\n",
      "(442, 2)\n"
     ]
    }
   ],
   "source": [
    "# use only the fourth feature\n",
    "X = diabetes.data[:, np.newaxis, 3]\n",
    "print(X.shape)\n",
    "\n",
    "# use the third, and tenth features\n",
    "X = diabetes.data[:, (3,9)]\n",
    "print(X.shape)"
   ]
  },
  {
   "cell_type": "markdown",
   "metadata": {},
   "source": [
    "***Question***: Why we need to use the `np.newaxis` expression in the examples above? \n",
    "\n",
    "_To make the data a 2-D matrix, which is necessary for performing matrix operations in Numpy._\n",
    "\n",
    "Note that in all your experiments in the exercises, you should use and independent training and testing sets. You can split the dataset into a training and testing subsets in the following way:"
   ]
  },
  {
   "cell_type": "code",
   "execution_count": 4,
   "metadata": {},
   "outputs": [
    {
     "name": "stdout",
     "output_type": "stream",
     "text": [
      "(300, 1)\n",
      "(300, 1)\n",
      "(142, 1)\n",
      "(142, 1)\n"
     ]
    }
   ],
   "source": [
    "# use the fourth feature\n",
    "# use the first 300 training samples for training, and the rest for testing\n",
    "X_train = diabetes.data[:300, np.newaxis, 3]\n",
    "y_train = diabetes.target[:300, np.newaxis]\n",
    "X_test = diabetes.data[300:, np.newaxis, 3]\n",
    "y_test = diabetes.target[300:, np.newaxis]\n",
    "print(X_train.shape)\n",
    "print(y_train.shape)\n",
    "print(X_test.shape)\n",
    "print(y_test.shape)"
   ]
  },
  {
   "cell_type": "markdown",
   "metadata": {},
   "source": [
    "## Exercises\n",
    "\n",
    "### Linear regression\n",
    "\n",
    "Implement training and evaluation of a linear regression model on the diabetes dataset using only matrix multiplication, inversion and transpose operations. Report the mean squared error of the model.\n",
    "\n",
    "To get you started we have implemented the first part of this exercise (fitting of the model) as an example."
   ]
  },
  {
   "cell_type": "code",
   "execution_count": 5,
   "metadata": {},
   "outputs": [
    {
     "name": "stdout",
     "output_type": "stream",
     "text": [
      "Beta = [[ 152.34786452]\n",
      " [ -16.57607993]\n",
      " [-254.66532396]\n",
      " [ 560.98630022]\n",
      " [ 278.91811152]\n",
      " [-393.41357305]\n",
      " [  97.05460405]\n",
      " [ -19.0023093 ]\n",
      " [ 169.46450327]\n",
      " [ 632.95050374]\n",
      " [ 114.21638941]]\n",
      "Mean Squared Error = 2794.5690145007284\n",
      "Root Mean Squared Error = 52.86368332324875\n"
     ]
    }
   ],
   "source": [
    "# import data\n",
    "import numpy as np\n",
    "from sklearn.datasets import load_diabetes, load_breast_cancer\n",
    "diabetes = load_diabetes()\n",
    "\n",
    "# add subfolder that contains all the function implementations\n",
    "# to the system path so we can import them\n",
    "import importlib as il\n",
    "import sys\n",
    "import matplotlib.pyplot as plt\n",
    "sys.path.append('code/')\n",
    "\n",
    "# the actual implementation is in linear_regression.py,\n",
    "# here we will just use it to fit a model\n",
    "import linear_regression\n",
    "from linear_regression import *\n",
    "il.reload(linear_regression)\n",
    "\n",
    "# load the dataset\n",
    "# same as before, but now we use all features\n",
    "X_train = diabetes.data[:300, :]\n",
    "y_train = diabetes.target[:300, np.newaxis]\n",
    "X_test = diabetes.data[300:, :]\n",
    "y_test = diabetes.target[300:, np.newaxis]\n",
    "\n",
    "beta = lsq(X_train, y_train)\n",
    "\n",
    "# print the parameters\n",
    "print(\"Beta = {}\".format(beta))\n",
    "\n",
    "# evaluate the linear regression model & calculate the (Root) Mean Squared Error\n",
    "MSE, y_out = eval_lin_model(beta, X_test, y_test)\n",
    "print(\"Mean Squared Error = {}\".format(MSE))\n",
    "print(\"Root Mean Squared Error = {}\".format(np.sqrt(MSE)))\n"
   ]
  },
  {
   "cell_type": "markdown",
   "metadata": {},
   "source": [
    "### Weighted linear regression\n",
    "\n",
    "Assume that in the dataset that you use to train a linear regression model, there are identical versions of some samples. This problem can be reformulated to a weighted linear regression problem where the matrices $\\boldsymbol{\\mathrm{X}}$ and $\\boldsymbol{\\mathrm{Y}}$ (or the vector $\\boldsymbol{\\mathrm{y}}$ if there is only a single target/output variable) contain only the unique data samples, and a vector $\\boldsymbol{\\mathrm{d}}$ is introduced that gives more weight to samples that appear multiple times in the original dataset (for example, the sample that appears 3 times has a corresponding weight of 3). \n",
    "\n",
    "<p><font color='#770a0a'>Derive the expression for the least-squares solution of a weighted linear regression model (note that in addition to the matrices $\\boldsymbol{\\mathrm{X}}$ and $\\boldsymbol{\\mathrm{Y}}$, the solution should include a vector of weights $\\boldsymbol{\\mathrm{d}}$).</font></p>"
   ]
  },
  {
   "cell_type": "markdown",
   "metadata": {},
   "source": [
    "$WSS(\\boldsymbol{\\mathrm{w}})=(\\boldsymbol{\\mathrm{Y}} - \\boldsymbol{\\mathrm{X}}\\boldsymbol{\\mathrm{w}})^T\\boldsymbol{\\mathrm{D}}(\\boldsymbol{\\mathrm{Y}} - \\boldsymbol{\\mathrm{X}}\\boldsymbol{\\mathrm{w}})$ should be minimised. <br>\n",
    "\n",
    "$ (\\boldsymbol{\\mathrm{Y}} - \\boldsymbol{\\mathrm{X}}\\boldsymbol{\\mathrm{w}})^T\\boldsymbol{\\mathrm{D}}(\\boldsymbol{\\mathrm{Y}} - \\boldsymbol{\\mathrm{X}}\\boldsymbol{\\mathrm{w}}) = (\\boldsymbol{\\mathrm{Y}}^T - \\boldsymbol{\\mathrm{w}}^T\\boldsymbol{\\mathrm{X}}^T)\\boldsymbol{\\mathrm{D}}(\\boldsymbol{\\mathrm{Y}} - \\boldsymbol{\\mathrm{X}}\\boldsymbol{\\mathrm{w}}) = \\boldsymbol{\\mathrm{Y}}^T\\boldsymbol{\\mathrm{D}}\\boldsymbol{\\mathrm{Y}} - \\boldsymbol{\\mathrm{Y}}^T\\boldsymbol{\\mathrm{D}}\\boldsymbol{\\mathrm{X}}\\boldsymbol{\\mathrm{w}} - \\boldsymbol{\\mathrm{w}}^T\\boldsymbol{\\mathrm{X}}^T\\boldsymbol{\\mathrm{D}}\\boldsymbol{\\mathrm{Y}} + \\boldsymbol{\\mathrm{w}}^T\\boldsymbol{\\mathrm{X}}^T\\boldsymbol{\\mathrm{D}}\\boldsymbol{\\mathrm{X}}\\boldsymbol{\\mathrm{w}} = \\boldsymbol{\\mathrm{Y}}^T\\boldsymbol{\\mathrm{D}}\\boldsymbol{\\mathrm{Y}} - 2\\boldsymbol{\\mathrm{w}}^T\\boldsymbol{\\mathrm{X}}^T\\boldsymbol{\\mathrm{D}}\\boldsymbol{\\mathrm{Y}} + \\boldsymbol{\\mathrm{w}}^T\\boldsymbol{\\mathrm{X}}^T\\boldsymbol{\\mathrm{D}}\\boldsymbol{\\mathrm{X}}\\boldsymbol{\\mathrm{w}}$\n",
    "\n",
    "Computing the derivative w.r.t. $\\boldsymbol{\\mathrm{w}}$ gives $ -2\\boldsymbol{\\mathrm{X}}^T\\boldsymbol{\\mathrm{D}}\\boldsymbol{\\mathrm{Y}} + 2\\boldsymbol{\\mathrm{X}}^T\\boldsymbol{\\mathrm{D}}\\boldsymbol{\\mathrm{X}}\\boldsymbol{\\mathrm{w}}$.<br> \n",
    "\n",
    "Equating this expression to 0 gives us the least-squares weighted regression coefficient vector $\\boldsymbol{\\mathrm{\\hat{w}}}$:\n",
    "$\\boldsymbol{\\mathrm{\\hat{w}}} = (\\boldsymbol{\\mathrm{X}}^T\\boldsymbol{\\mathrm{D}}\\boldsymbol{\\mathrm{X}})^{-1}\\boldsymbol{\\mathrm{X}}^T\\boldsymbol{\\mathrm{D}}\\boldsymbol{\\mathrm{Y}}$<br>\n",
    "where $\\boldsymbol{\\mathrm{D}} = diag(\\boldsymbol{\\mathrm{d}})$ "
   ]
  },
  {
   "cell_type": "markdown",
   "metadata": {},
   "source": [
    "### $k$-NN classification\n",
    "\n",
    "Implement a $k$-Nearest neighbors classifier from scratch in Python using only basic matrix operations with `numpy` and `scipy`. Train and evaluate the classifier on the breast cancer dataset, using all features. Show the performance of the classifier for different values of $k$ (plot the results in a graph). Note that for optimal results, you should normalize the features (e.g. to the $[0, 1]$ range or to have a zero mean and unit standard deviation)."
   ]
  },
  {
   "cell_type": "markdown",
   "metadata": {},
   "source": []
  },
  {
   "cell_type": "code",
   "execution_count": 6,
   "metadata": {},
   "outputs": [
    {
     "data": {
      "image/png": "[encoded data removed]",
      "text/plain": [
       "<Figure size 432x288 with 1 Axes>"
      ]
     },
     "metadata": {
      "needs_background": "light"
     },
     "output_type": "display_data"
    }
   ],
   "source": [
    "import numpy as np \n",
    "from sklearn.datasets import load_breast_cancer\n",
    "from NNfunction import *\n",
    "import matplotlib.pyplot as plt \n",
    "\n",
    "\"\"\"\n",
    "Load the breast cancer dataset find the true targets from the test data set and choose how many neighbour points should be looked at.\n",
    " \n",
    "\"\"\"\n",
    "breast_cancer = load_breast_cancer()\n",
    "real_values=breast_cancer.target[300:,np.newaxis]\n",
    "nn= 30\n",
    "k=range(1,nn) \n",
    "\n",
    "\"\"\"\n",
    "The for-loop classfies the test dataset using different values for k. After that, the true values and the calculated values are compared \n",
    "and the amount of correctly and falsely classefied samples are stored in the lists: Good and Wrong.\n",
    "These lists are then plotted as a function of k.\n",
    "\"\"\"\n",
    "    \n",
    "Good=[]\n",
    "Wrong=[]\n",
    "for i in range(1,nn):\n",
    "    calssification=NNfunction(i,breast_cancer,30)\n",
    "    Incorrect_predictions=0\n",
    "    Correct_predictions=0\n",
    "    for q in range(len(real_values)):\n",
    "        if calssification[q,:]==real_values[q,:]:\n",
    "            Correct_predictions=Correct_predictions+1\n",
    "        else:\n",
    "            Incorrect_predictions=Incorrect_predictions+1\n",
    "    Good.append(Correct_predictions)\n",
    "    Wrong.append(Incorrect_predictions)\n",
    "plt.plot(k,Good,color='green',label = \"Succesful classification\")\n",
    "plt.plot(k,Wrong,color='red',label = \"Failed classification\")\n",
    "plt.xlabel('Number of Neighbours')\n",
    "plt.ylabel('Amount of Instances')\n",
    "plt.legend()\n",
    "plt.show()\n",
    "\n",
    "\n",
    "\n"
   ]
  },
  {
   "cell_type": "markdown",
   "metadata": {},
   "source": [
    "The script which is shown above makes use of a function called NNfunction which calculates the nearest nn neigbours of a specific test sample. The breast cancer dataset was split up into a training and a test dataset. The test dataset was classified using the training data and this script's classification results were compared to the correct classification of the samples. The graph shows the amount of correctly and wrongfully classified samples. "
   ]
  },
  {
   "cell_type": "markdown",
   "metadata": {},
   "source": [
    "### $k$-NN regression\n",
    "\n",
    "Modify the $k$-NN implementation to do regression instead of classification. Compare the performance of the linear regression model and the $k$-NN regression model on the diabetes dataset for different values of $k$.."
   ]
  },
  {
   "cell_type": "code",
   "execution_count": 9,
   "metadata": {},
   "outputs": [
    {
     "data": {
      "text/plain": [
       "Text(0, 0.5, 'MSE')"
      ]
     },
     "execution_count": 9,
     "metadata": {},
     "output_type": "execute_result"
    },
    {
     "data": {
      "image/png": "[encoded data removed]",
      "text/plain": [
       "<Figure size 432x288 with 1 Axes>"
      ]
     },
     "metadata": {
      "needs_background": "light"
     },
     "output_type": "display_data"
    }
   ],
   "source": [
    "#Import all functionalities and the dataset\n",
    "import matplotlib.pyplot as plt\n",
    "from sklearn.datasets import load_diabetes\n",
    "from nn_regression_functions import k_NN_Regression\n",
    "\n",
    "# load the diabetes dataset\n",
    "diabetes = load_diabetes()\n",
    "\n",
    "#Use different values of k\n",
    "k=range(5,20)\n",
    "MSE = []\n",
    "for i in k:\n",
    "    ans = k_NN_Regression(diabetes,i)\n",
    "    MSE.append(ans[1])\n",
    "    \n",
    "#Create graph\n",
    "plt.plot(k,MSE,'g')\n",
    "plt.xlabel('k')\n",
    "plt.ylabel('MSE')"
   ]
  },
  {
   "cell_type": "markdown",
   "metadata": {},
   "source": [
    "Compared with the linear regression model the $k$-NN regression model has a slightly improved MSE for $k$ = 10. For other values of "
   ]
  },
  {
   "cell_type": "markdown",
   "metadata": {},
   "source": [
    "### Class-conditional probability\n",
    "\n",
    "Compute and visualize the class-conditional probability (conditional probability where the class label is the conditional variable, i.e. $P(X = x \\mid Y = y)$ for all features in the breast cancer dataset. Assume a Gaussian distribution.\n",
    "\n",
    "<p><font color='#770a0a'>Based on visual analysis of the plots, which individual feature can best discriminate between the two classes? Motivate your answer.</font></p>\n",
    "\n"
   ]
  },
  {
   "cell_type": "code",
   "execution_count": 8,
   "metadata": {},
   "outputs": [
    {
     "data": {
      "image/png": "[encoded data removed]",
      "text/plain": [
       "<Figure size 864x360 with 2 Axes>"
      ]
     },
     "metadata": {
      "needs_background": "light"
     },
     "output_type": "display_data"
    }
   ],
   "source": [
    "import class_cond_prop\n",
    "import matplotlib.pyplot as plt\n",
    "from class_cond_prop import *\n",
    "il.reload(class_cond_prop)\n",
    "\n",
    "x_cancer = breast_cancer.data\n",
    "y_cancer = breast_cancer.target[:, np.newaxis]\n",
    "\n",
    "# compute matrix containing all conditional probabilities per attribute\n",
    "CP = cond_prop(x_cancer, y_cancer)\n",
    "\n",
    "# visualisation for one attribute\n",
    "i = y_cancer[:, 0] > 0\n",
    "j = y_cancer[:, 0] == 0\n",
    "\n",
    "# change idx (0 - 29) for different attribute inspection\n",
    "idx = 27\n",
    "fig, ax = plt.subplots(nrows=1, ncols=2, figsize=(12, 5))\n",
    "ax[0].plot(x_cancer[j, idx],CP[j, idx], 'b.', label=\"Class = 0\")\n",
    "ax[0].plot(x_cancer[i, idx], CP[i, idx], 'r.', label=\"Class = 1\")\n",
    "ax[0].set_xlabel(\"Attribute value\")\n",
    "ax[0].set_ylabel(\"Conditional Probability\")\n",
    "ax[0].set_title(\"Feature \"+ str(idx+1))\n",
    "ax[0].legend()\n",
    "\n",
    "idx = 18\n",
    "ax[1].plot(x_cancer[j, idx],CP[j, idx], 'b.', label=\"Class = 0\")\n",
    "ax[1].plot(x_cancer[i, idx], CP[i, idx], 'r.', label=\"Class = 1\")\n",
    "ax[1].set_xlabel(\"Attribute value\")\n",
    "ax[1].set_ylabel(\"Conditional Probability\")\n",
    "ax[1].set_title(\"Feature \"+ str(idx+1))\n",
    "ax[1].legend()\n",
    "plt.show()"
   ]
  },
  {
   "cell_type": "markdown",
   "metadata": {},
   "source": [
    "These graphs show the probability of measuring a particular attribute value X given the instance is in class Y.\n",
    "\n",
    "On the left the conditional probability for feature 28 is shown. This is the best feature to discriminate between the two classes since the 'probability graphs' of class 0 and 1 do least overlap and the probability values are (relatively) high. For attribute values from approximately 0 to 0.15 there is a high probability these values occur given that the instance is in class 0 and there is low/no probability these values occur given that the instance is in class 1. For attribute values from 0.15 to 0.30 vice versa.\n",
    "\n",
    "On the right the conditional probability for feature 19 is shown. Based on the conditional probability this would e.g. not be a good feature to use since the graphs overlap a lot. The probability to measure a particular attribute value X is high for both classes. \n"
   ]
  }
 ],
 "metadata": {
  "kernelspec": {
   "display_name": "Python 3",
   "language": "python",
   "name": "python3"
  },
  "language_info": {
   "codemirror_mode": {
    "name": "ipython",
    "version": 3
   },
   "file_extension": ".py",
   "mimetype": "text/x-python",
   "name": "python",
   "nbconvert_exporter": "python",
   "pygments_lexer": "ipython3",
   "version": "3.7.3"
  }
 },
 "nbformat": 4,
 "nbformat_minor": 2
}
